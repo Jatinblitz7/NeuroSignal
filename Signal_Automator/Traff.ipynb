{
 "cells": [
  {
   "cell_type": "code",
   "execution_count": 11,
   "id": "642e6ebf-68a0-4e33-ac1a-c91a80a305d6",
   "metadata": {},
   "outputs": [],
   "source": [
    "from ultralytics import YOLO\n",
    "import numpy as np\n",
    "import supervision as sv\n",
    "import time\n"
   ]
  },
  {
   "cell_type": "code",
   "execution_count": null,
   "id": "e82d3efb-2078-4cdf-bbfa-3810f127f081",
   "metadata": {
    "scrolled": true
   },
   "outputs": [
    {
     "name": "stdout",
     "output_type": "stream",
     "text": [
      "Time taken to process video: 4.01 seconds\n",
      "Count: 35, Wait: 40\n"
     ]
    }
   ],
   "source": [
    "# Path setup\n",
    "video_path = \"C:/Users/Jatin/SigProj/Signal.mp4\"\n",
    "output_path = \"C:/Users/Jatin/SigProj/signal-result.mp4\"\n",
    "\n",
    "# Polygon zone\n",
    "polygon = np.array([\n",
    "    [220, 80],\n",
    "    [0, 200], \n",
    "    [0, 400],\n",
    "    [513, 400],\n",
    "    [465, 80]\n",
    "])\n",
    "\n",
    "# Video info\n",
    "video_info = sv.VideoInfo.from_video_path(video_path)\n",
    "zone = sv.PolygonZone(polygon=polygon)\n",
    "\n",
    "# Annotators\n",
    "box_annotator = sv.BoundingBoxAnnotator(thickness=2)\n",
    "zone_annotator = sv.PolygonZoneAnnotator(zone=zone, color=sv.Color.WHITE, thickness=1, text_thickness=1, text_scale=1)\n",
    "\n",
    "# Track last count\n",
    "last_count = {\"value\": 0}  # Use mutable object to update inside function\n",
    "model = YOLO('yolov8s.pt')\n",
    "def process_frame(frame: np.ndarray, _) -> np.ndarray:\n",
    "    results = model(frame, imgsz=1280)[0]\n",
    "    detections = sv.Detections.from_ultralytics(results)\n",
    "    zone.trigger(detections=detections)\n",
    "\n",
    "    last_count[\"value\"] = zone.current_count  # Update the latest count\n",
    "\n",
    "    frame = box_annotator.annotate(scene=frame, detections=detections)\n",
    "    frame = zone_annotator.annotate(scene=frame)\n",
    "    return frame\n",
    "\n",
    "# Run processing\n",
    "start_time = time.time()\n",
    "sv.process_video(source_path=video_path, target_path=output_path, callback=process_frame)\n",
    "\n",
    "# Display final count\n",
    "\n",
    "end_time = time.time()\n",
    "elapsed_time = end_time - start_time\n",
    "display.clear_output()\n",
    "print(f\"Time taken to process video: {elapsed_time:.2f} seconds\")\n",
    "\n",
    "count = last_count[\"value\"]\n",
    "if count < 10:\n",
    "    wait = 20\n",
    "elif 10 <= count < 40:\n",
    "    wait = 40\n",
    "else:  # count >= 40\n",
    "    wait = 60\n",
    "\n",
    "print(f\"Count: {count}, Wait: {wait}\")"
   ]
  }
 ],
 "metadata": {
  "kernelspec": {
   "display_name": "Python 3 (ipykernel)",
   "language": "python",
   "name": "python3"
  },
  "language_info": {
   "codemirror_mode": {
    "name": "ipython",
    "version": 3
   },
   "file_extension": ".py",
   "mimetype": "text/x-python",
   "name": "python",
   "nbconvert_exporter": "python",
   "pygments_lexer": "ipython3",
   "version": "3.10.10"
  }
 },
 "nbformat": 4,
 "nbformat_minor": 5
}
